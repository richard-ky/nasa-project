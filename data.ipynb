{
  "nbformat": 4,
  "nbformat_minor": 0,
  "metadata": {
    "colab": {
      "name": "regressionplayground.ipynb",
      "provenance": [],
      "authorship_tag": "ABX9TyPaEvs86uhph8oC9mFlVq2h",
      "include_colab_link": true
    },
    "kernelspec": {
      "name": "python3",
      "display_name": "Python 3"
    },
    "language_info": {
      "name": "python"
    }
  },
  "cells": [
    {
      "cell_type": "markdown",
      "metadata": {
        "id": "view-in-github",
        "colab_type": "text"
      },
      "source": [
        "<a href=\"https://colab.research.google.com/github/richardky30/nasa-data/blob/main/nasa-data.ipynb\" target=\"_parent\"><img src=\"https://colab.research.google.com/assets/colab-badge.svg\" alt=\"Open In Colab\"/></a>"
      ]
    },
    {
      "cell_type": "code",
      "execution_count": null,
      "metadata": {
        "id": "amzroJrzfBm2",
        "colab": {
          "base_uri": "https://localhost:8080/"
        },
        "outputId": "6ba7c1ca-c020-41c3-f855-0960690d4f9d"
      },
      "outputs": [
        {
          "output_type": "stream",
          "name": "stdout",
          "text": [
            "(6, 1)\n",
            "(6,)\n"
          ]
        }
      ],
      "source": [
        "import numpy as np\n",
        "from sklearn.linear_model import LinearRegression as lr\n",
        "\n",
        "x = np.array([55, 45, 35, 25, 15, 5]).reshape(-1, 1)\n",
        "y = np.array([38, 22, 32, 14, 20, 5])\n",
        "\n",
        "print(x.shape)\n",
        "print(y.shape)"
      ]
    },
    {
      "cell_type": "code",
      "source": [
        "model = lr().fit(x, y)\n",
        "r_squared = model.score(x, y)\n",
        "print(\"The coefficient of determination is\", r_squared)"
      ],
      "metadata": {
        "colab": {
          "base_uri": "https://localhost:8080/"
        },
        "id": "aznGUOJ4lg5y",
        "outputId": "3c3a0913-9e21-4f46-8487-dac8fae8a275"
      },
      "execution_count": null,
      "outputs": [
        {
          "output_type": "stream",
          "name": "stdout",
          "text": [
            "The coefficient of determination is 0.7158756137479542\n"
          ]
        }
      ]
    },
    {
      "cell_type": "code",
      "source": [
        "print(\"The y-intercept is\", model.intercept_)\n",
        "print(\"The slope is\", model.coef_)"
      ],
      "metadata": {
        "colab": {
          "base_uri": "https://localhost:8080/"
        },
        "id": "EFq89EgfmHZl",
        "outputId": "d9363c0b-236e-4d77-ffc9-56e48e3eb837"
      },
      "execution_count": null,
      "outputs": [
        {
          "output_type": "stream",
          "name": "stdout",
          "text": [
            "The y-intercept is 5.633333333333329\n",
            "The slope is [0.54]\n"
          ]
        }
      ]
    },
    {
      "cell_type": "code",
      "source": [
        "y_prediction = model.predict(x)\n",
        "print(\"The predicted response is\", y_prediction)"
      ],
      "metadata": {
        "colab": {
          "base_uri": "https://localhost:8080/"
        },
        "id": "tuFhWroXnMSW",
        "outputId": "d35b9bc4-0354-4891-e076-77ef03fc7941"
      },
      "execution_count": null,
      "outputs": [
        {
          "output_type": "stream",
          "name": "stdout",
          "text": [
            "The predicted response is [35.33333333 29.93333333 24.53333333 19.13333333 13.73333333  8.33333333]\n"
          ]
        }
      ]
    },
    {
      "cell_type": "code",
      "source": [
        "x_new = np.arange(5).reshape((-1, 1))\n",
        "y_new = model.predict(x_new)\n",
        "print(y_new)"
      ],
      "metadata": {
        "colab": {
          "base_uri": "https://localhost:8080/"
        },
        "id": "yPeOkUZlnqR6",
        "outputId": "6bc24fcf-71a1-4bc6-939a-d5edd3573539"
      },
      "execution_count": null,
      "outputs": [
        {
          "output_type": "stream",
          "name": "stdout",
          "text": [
            "[5.63333333 6.17333333 6.71333333 7.25333333 7.79333333]\n"
          ]
        }
      ]
    },
    {
      "cell_type": "code",
      "source": [
        "x = ((0, 1), (5, 1), [15, 2], [25, 5], [35, 11], [45, 15], [55, 34], [60, 35])\n",
        "y = (4, 5, 20, 14, 32, 22, 38, 43)\n",
        "x, y = np.array(x), np.array(y)\n",
        "print(x)\n",
        "print(y)"
      ],
      "metadata": {
        "colab": {
          "base_uri": "https://localhost:8080/"
        },
        "id": "0446HcdD6rPu",
        "outputId": "a2fdd853-eb60-4112-ab4b-be257e5b0b3c"
      },
      "execution_count": null,
      "outputs": [
        {
          "output_type": "stream",
          "name": "stdout",
          "text": [
            "[[ 0  1]\n",
            " [ 5  1]\n",
            " [15  2]\n",
            " [25  5]\n",
            " [35 11]\n",
            " [45 15]\n",
            " [55 34]\n",
            " [60 35]]\n",
            "[ 4  5 20 14 32 22 38 43]\n"
          ]
        }
      ]
    },
    {
      "cell_type": "code",
      "source": [
        "model = lr().fit(x, y)\n",
        "r_sq = model.score(x, y)\n",
        "print(\"The coefficient of determination is \", r_sq)\n",
        "print(\"The y-intercept is \", model.intercept_)\n",
        "print(\"The slope is \", model.coef_)"
      ],
      "metadata": {
        "colab": {
          "base_uri": "https://localhost:8080/"
        },
        "id": "zRqTRFRTCwIP",
        "outputId": "14e35665-0532-49c5-b764-708675173f0e"
      },
      "execution_count": null,
      "outputs": [
        {
          "output_type": "stream",
          "name": "stdout",
          "text": [
            "The coefficient of determination is  0.8615939258756775\n",
            "The y-intercept is  5.52257927519819\n",
            "The slope is  [0.44706965 0.25502548]\n"
          ]
        }
      ]
    },
    {
      "cell_type": "code",
      "source": [
        "y_pred = model.predict(x)\n",
        "print(\"The predicted response is \", y_pred, sep='\\n')"
      ],
      "metadata": {
        "colab": {
          "base_uri": "https://localhost:8080/"
        },
        "id": "D4vs2A5PD2tv",
        "outputId": "b3afceed-38cd-4c7a-9530-8fec449d7600"
      },
      "execution_count": null,
      "outputs": [
        {
          "output_type": "stream",
          "name": "stdout",
          "text": [
            "The predicted response is \n",
            "[ 5.77760476  8.012953   12.73867497 17.9744479  23.97529728 29.4660957\n",
            " 38.78227633 41.27265006]\n"
          ]
        }
      ]
    },
    {
      "cell_type": "code",
      "source": [
        "x_new = np.arange(10).reshape((-1, 2))\n",
        "y_new = model.predict(x_new)\n",
        "print(y_new)"
      ],
      "metadata": {
        "colab": {
          "base_uri": "https://localhost:8080/"
        },
        "id": "HKsDnIRGF_cq",
        "outputId": "0360ee0b-3fbd-48c4-a60a-9d0e5474ddcf"
      },
      "execution_count": null,
      "outputs": [
        {
          "output_type": "stream",
          "name": "stdout",
          "text": [
            "[ 5.77760476  7.18179502  8.58598528  9.99017554 11.3943658 ]\n"
          ]
        }
      ]
    },
    {
      "cell_type": "code",
      "source": [
        "x = ((8.01, 35), (7.71, 44), (7.76, 47), (7.82, 43), (7.89, 43), (7.9, 43), (7.85, 35), (7.88, 35))\n",
        "y = (43.95, 49.23, 50.98, 49.23, 49.23, 49.23, 43.95, 43.95)\n",
        "x, y = np.array(x), np.array(y)\n",
        "model = lr().fit(x, y)\n",
        "r_sq = model.score(x, y)\n",
        "print(\"The coefficient of determination is \", r_sq)\n",
        "print(\"The y-intercept is \", model.intercept_)\n",
        "print(\"The slope is \", model.coef_)\n",
        "y_pred = model.predict(x)\n",
        "print(\"The predicted response is \", y_pred, sep='\\n')"
      ],
      "metadata": {
        "colab": {
          "base_uri": "https://localhost:8080/"
        },
        "id": "vnlfZtvkQMr4",
        "outputId": "3bce7852-724f-40c8-f217-a5ad543fa975"
      },
      "execution_count": null,
      "outputs": [
        {
          "output_type": "stream",
          "name": "stdout",
          "text": [
            "The coefficient of determination is  0.9941842403222144\n",
            "The y-intercept is  3.468953610112962\n",
            "The slope is  [2.29527829 0.63941227]\n",
            "The predicted response is \n",
            "[44.23356229 49.29968927 51.33269001 48.91275761 49.07342709 49.09637987\n",
            " 43.86631776 43.93517611]\n"
          ]
        }
      ]
    },
    {
      "cell_type": "code",
      "source": [
        "import pandas as pd\n",
        "df = pd.DataFrame(x, columns = [\"pH\", \"Air\"])\n",
        "df.sort_values(\"pH\", inplace=True,ignore_index=True)\n",
        "df.plot(x = 'pH')"
      ],
      "metadata": {
        "colab": {
          "base_uri": "https://localhost:8080/",
          "height": 296
        },
        "id": "IxcswXoCTW6E",
        "outputId": "0a62a5cc-a963-4ad1-ab3c-fc62975131cb"
      },
      "execution_count": null,
      "outputs": [
        {
          "output_type": "execute_result",
          "data": {
            "text/plain": [
              "<matplotlib.axes._subplots.AxesSubplot at 0x7f38bcba8a10>"
            ]
          },
          "metadata": {},
          "execution_count": 12
        },
        {
          "output_type": "display_data",
          "data": {
            "image/png": "[encoded data removed]",
            "text/plain": [
              "<Figure size 432x288 with 1 Axes>"
            ]
          },
          "metadata": {
            "needs_background": "light"
          }
        }
      ]
    },
    {
      "cell_type": "code",
      "source": [
        "from sklearn.preprocessing import PolynomialFeatures\n",
        "x = np.array([5, 15, 25, 35, 45, 55]).reshape((-1,1))\n",
        "y = np.array([15, 11, 2, 8, 25, 32])\n",
        "x_ = PolynomialFeatures(degree=2,include_bias=False).fit_transform(x)\n",
        "model = lr().fit(x_, y)\n",
        "r_sq = model.score(x_, y)\n",
        "print(\"R-squared is:\", r_sq)\n",
        "print(\"The y-intercept is:\", model.intercept_)\n",
        "print(\"The coefficients are:\", model.coef_)\n",
        "y_pred = model.predict(x_)\n",
        "print(\"Our prediction is:\", y_pred, sep='\\n')"
      ],
      "metadata": {
        "colab": {
          "base_uri": "https://localhost:8080/"
        },
        "id": "3qWiYQJZB7DV",
        "outputId": "550c314e-a5b8-4333-a93f-8c82456f802f"
      },
      "execution_count": null,
      "outputs": [
        {
          "output_type": "stream",
          "name": "stdout",
          "text": [
            "R-squared is: 0.8908516262498563\n",
            "The y-intercept is: 21.37232142857144\n",
            "The coefficients are: [-1.32357143  0.02839286]\n",
            "Our prediction is:\n",
            "[15.46428571  7.90714286  6.02857143  9.82857143 19.30714286 34.46428571]\n"
          ]
        }
      ]
    },
    {
      "cell_type": "code",
      "source": [
        "x = ((0, 1), (5, 1), [15, 2], [25, 5], [35, 11], [45, 15], [55, 34], [60, 35])\n",
        "y = (4, 5, 20, 14, 32, 22, 38, 43)\n",
        "x, y = np.array(x), np.array(y)\n",
        "x_ = PolynomialFeatures(degree=2, include_bias=False).fit_transform(x)\n",
        "model = lr().fit(x_, y)\n",
        "r_sq = model.score(x_, y)\n",
        "print(\"R-squared is:\", r_sq)\n",
        "print(\"The y-intercept is:\", model.intercept_)\n",
        "print(\"The coefficients are:\", model.coef_)\n",
        "y_pred = model.predict(x_)\n",
        "print(\"Our prediction is:\", y_pred, sep='\\n')"
      ],
      "metadata": {
        "colab": {
          "base_uri": "https://localhost:8080/"
        },
        "id": "uc7OpDibNoHn",
        "outputId": "51995831-5e11-405c-bb2f-df2386c35c07"
      },
      "execution_count": null,
      "outputs": [
        {
          "output_type": "stream",
          "name": "stdout",
          "text": [
            "R-squared is: 0.9453701449127822\n",
            "The y-intercept is: 0.8430556452395876\n",
            "The coefficients are: [ 2.44828275  0.16160353 -0.15259677  0.47928683 -0.4641851 ]\n",
            "Our prediction is:\n",
            "[ 0.54047408 11.36340283 16.07809622 15.79139    29.73858619 23.50834636\n",
            " 39.05631386 41.92339046]\n"
          ]
        }
      ]
    },
    {
      "cell_type": "code",
      "source": [
        "import statsmodels.api as sm\n",
        "x = ((0, 1), (5, 1), [15, 2], [25, 5], [35, 11], [45, 15], [55, 34], [60, 35])\n",
        "y = (4, 5, 20, 14, 32, 22, 38, 43)\n",
        "x, y = np.array(x), np.array(y)\n",
        "x = sm.add_constant(x)\n",
        "model = sm.OLS(y, x)\n",
        "results = model.fit()\n",
        "print(results.summary())"
      ],
      "metadata": {
        "colab": {
          "base_uri": "https://localhost:8080/"
        },
        "id": "J4T99qSAOa7X",
        "outputId": "1f0027da-3b4b-4ec3-df73-a8463e39e8f5"
      },
      "execution_count": null,
      "outputs": [
        {
          "output_type": "stream",
          "name": "stdout",
          "text": [
            "                            OLS Regression Results                            \n",
            "==============================================================================\n",
            "Dep. Variable:                      y   R-squared:                       0.862\n",
            "Model:                            OLS   Adj. R-squared:                  0.806\n",
            "Method:                 Least Squares   F-statistic:                     15.56\n",
            "Date:                Fri, 25 Feb 2022   Prob (F-statistic):            0.00713\n",
            "Time:                        00:22:47   Log-Likelihood:                -24.316\n",
            "No. Observations:                   8   AIC:                             54.63\n",
            "Df Residuals:                       5   BIC:                             54.87\n",
            "Df Model:                           2                                         \n",
            "Covariance Type:            nonrobust                                         \n",
            "==============================================================================\n",
            "                 coef    std err          t      P>|t|      [0.025      0.975]\n",
            "------------------------------------------------------------------------------\n",
            "const          5.5226      4.431      1.246      0.268      -5.867      16.912\n",
            "x1             0.4471      0.285      1.567      0.178      -0.286       1.180\n",
            "x2             0.2550      0.453      0.563      0.598      -0.910       1.420\n",
            "==============================================================================\n",
            "Omnibus:                        0.561   Durbin-Watson:                   3.268\n",
            "Prob(Omnibus):                  0.755   Jarque-Bera (JB):                0.534\n",
            "Skew:                           0.380   Prob(JB):                        0.766\n",
            "Kurtosis:                       1.987   Cond. No.                         80.1\n",
            "==============================================================================\n",
            "\n",
            "Warnings:\n",
            "[1] Standard Errors assume that the covariance matrix of the errors is correctly specified.\n"
          ]
        },
        {
          "output_type": "stream",
          "name": "stderr",
          "text": [
            "/usr/local/lib/python3.7/dist-packages/scipy/stats/stats.py:1535: UserWarning: kurtosistest only valid for n>=20 ... continuing anyway, n=8\n",
            "  \"anyway, n=%i\" % int(n))\n"
          ]
        }
      ]
    },
    {
      "cell_type": "code",
      "source": [
        "print(\"The coefficient of determination is:\", results.rsquared)\n",
        "print(\"The adjusted coefficient of determination is:\", results.rsquared_adj)\n",
        "print(\"The regression coefficients are:\", results.params)"
      ],
      "metadata": {
        "colab": {
          "base_uri": "https://localhost:8080/"
        },
        "id": "1zI7WC_sQwC2",
        "outputId": "0ca0e6ff-4c88-4903-bf88-f67311119571"
      },
      "execution_count": null,
      "outputs": [
        {
          "output_type": "stream",
          "name": "stdout",
          "text": [
            "The coefficient of determination is: 0.8615939258756776\n",
            "The adjusted coefficient of determination is: 0.8062314962259487\n",
            "The regression coefficients are: [5.52257928 0.44706965 0.25502548]\n"
          ]
        }
      ]
    },
    {
      "cell_type": "code",
      "source": [
        "print(\"The predicted response is:\", results.fittedvalues, sep='\\n')\n",
        "x_new = sm.add_constant(np.arange(10).reshape((-1,2)))\n",
        "y_new = results.predict(x_new)\n",
        "print(y_new)"
      ],
      "metadata": {
        "colab": {
          "base_uri": "https://localhost:8080/"
        },
        "id": "hw_6FCLHRaYE",
        "outputId": "adeac02e-0115-4a7a-a5f0-d865e28745da"
      },
      "execution_count": null,
      "outputs": [
        {
          "output_type": "stream",
          "name": "stdout",
          "text": [
            "The predicted response is:\n",
            "[ 5.77760476  8.012953   12.73867497 17.9744479  23.97529728 29.4660957\n",
            " 38.78227633 41.27265006]\n",
            "[ 5.77760476  7.18179502  8.58598528  9.99017554 11.3943658 ]\n"
          ]
        }
      ]
    }
  ]
}
